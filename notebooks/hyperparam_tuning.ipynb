{
 "cells": [
  {
   "cell_type": "code",
   "execution_count": 1,
   "id": "7395561a",
   "metadata": {},
   "outputs": [],
   "source": [
    "from importlib import reload\n",
    "\n",
    "import sys\n",
    "import os\n",
    "\n",
    "current_dir = os.getcwd()\n",
    "parent_dir = os.path.dirname(current_dir)\n",
    "\n",
    "\n",
    "sys.path.append(parent_dir)\n",
    "\n",
    "import src\n",
    "reload(src)\n",
    "\n",
    "from src.utils import load_MNIST_data\n",
    "from src.model import Simple_Model\n",
    "from src.train import train_model, tune_model\n",
    "from src.inference import evaluate_overall, evaluate_classwise, confusion_matrix_plot, plot_roc_curves\n",
    "\n",
    "import torch\n",
    "import torch.nn as nn\n",
    "\n",
    "import numpy as np\n",
    "import matplotlib.pyplot as plt\n",
    "\n"
   ]
  },
  {
   "cell_type": "code",
   "execution_count": 2,
   "id": "fdcfb647",
   "metadata": {},
   "outputs": [],
   "source": [
    "train_dloader, val_dloader, test_dloader = load_MNIST_data(batch_size = 128, num_workers=4) # try increase batch size to 128"
   ]
  },
  {
   "cell_type": "code",
   "execution_count": 3,
   "id": "a4e859b4",
   "metadata": {},
   "outputs": [],
   "source": [
    "hyperparam_space = {\n",
    "    \"lr\": {\"type\": \"float\", \"low\": 1e-5, \"high\": 1e-2, \"log\": True},\n",
    "    \"weight_decay\": {\"type\": \"float\", \"low\": 1e-5, \"high\": 1e-2, \"log\": True},\n",
    "    \"out_channels\": {\"type\": \"int\", \"low\": 4, \"high\": 16},\n",
    "    \"kernel_size\": {\"type\": \"int\", \"low\": 3, \"high\": 7}\n",
    "}"
   ]
  },
  {
   "cell_type": "code",
   "execution_count": 4,
   "id": "ac1c74de",
   "metadata": {},
   "outputs": [],
   "source": [
    "device = torch.device(\"mps\")"
   ]
  },
  {
   "cell_type": "code",
   "execution_count": null,
   "id": "811ae484",
   "metadata": {},
   "outputs": [
    {
     "name": "stderr",
     "output_type": "stream",
     "text": [
      "Optimising:  22%|██▏       | 11/50 [05:23<18:55, 29.12s/it]"
     ]
    }
   ],
   "source": [
    "\n",
    "tune_model(Simple_Model, train_dloader, val_dloader, model_name=\"Simple_CNN_v3\", device=device, n_trials=50, hyperparam_space=hyperparam_space, epochs=3, project_name=\"Fashion-MNIST-CNN_v3\")"
   ]
  },
  {
   "cell_type": "code",
   "execution_count": null,
   "id": "47e35698",
   "metadata": {},
   "outputs": [],
   "source": []
  }
 ],
 "metadata": {
  "kernelspec": {
   "display_name": "uni_conda",
   "language": "python",
   "name": "python3"
  },
  "language_info": {
   "codemirror_mode": {
    "name": "ipython",
    "version": 3
   },
   "file_extension": ".py",
   "mimetype": "text/x-python",
   "name": "python",
   "nbconvert_exporter": "python",
   "pygments_lexer": "ipython3",
   "version": "3.11.0"
  }
 },
 "nbformat": 4,
 "nbformat_minor": 5
}
