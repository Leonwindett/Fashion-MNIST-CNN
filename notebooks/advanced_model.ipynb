{
 "cells": [
  {
   "cell_type": "code",
   "execution_count": 1,
   "id": "6fcab216",
   "metadata": {},
   "outputs": [],
   "source": [
    "from importlib import reload\n",
    "\n",
    "import sys\n",
    "import os\n",
    "\n",
    "current_dir = os.getcwd()\n",
    "parent_dir = os.path.dirname(current_dir)\n",
    "\n",
    "sys.path.append(parent_dir)\n",
    "\n",
    "import src\n",
    "\n",
    "from src.utils import load_MNIST_data\n",
    "from src.model import FashionMNISTModel\n",
    "from src.train import train_model\n",
    "from src.inference import evaluate_overall, evaluate_classwise, confusion_matrix_plot, plot_roc_curves\n",
    "reload(src.train)\n",
    "reload(src.model)\n",
    "reload(src.utils)\n",
    "reload(src.inference)\n",
    "from src.model import FashionMNISTModel\n",
    "\n",
    "import torch\n",
    "import torch.nn as nn\n",
    "from torch.optim.lr_scheduler import OneCycleLR"
   ]
  },
  {
   "cell_type": "code",
   "execution_count": 2,
   "id": "0bba8896",
   "metadata": {},
   "outputs": [
    {
     "name": "stdout",
     "output_type": "stream",
     "text": [
      "288000\n",
      "12000\n",
      "10000\n"
     ]
    }
   ],
   "source": [
    "train_dloader, val_dloader, test_dloader = load_MNIST_data(batch_size = 512, num_workers=4) # try increase batch size to 128\n",
    "\n",
    "print(len(train_dloader.dataset))\n",
    "print(len(val_dloader.dataset))\n",
    "print(len(test_dloader.dataset))"
   ]
  },
  {
   "cell_type": "code",
   "execution_count": null,
   "id": "c8119699",
   "metadata": {},
   "outputs": [
    {
     "name": "stderr",
     "output_type": "stream",
     "text": [
      "                                                          \r"
     ]
    },
    {
     "name": "stdout",
     "output_type": "stream",
     "text": [
      "[Epoch  1] Training accuracy: 82.21%, Validation accuracy: 86.61%\n"
     ]
    },
    {
     "name": "stderr",
     "output_type": "stream",
     "text": [
      "Epoch 2:   0%|          | 0/563 [00:00<?, ?it/s]"
     ]
    }
   ],
   "source": [
    "device = torch.device(\"mps\")\n",
    "\n",
    "CNN_Model = FashionMNISTModel()\n",
    "\n",
    "loss_fcn = nn.CrossEntropyLoss()\n",
    "optimiser = torch.optim.AdamW(params = CNN_Model.parameters(), lr = 0.001, weight_decay=1e-4)\n",
    "\n",
    "scaler = torch.amp.GradScaler(device)  \n",
    "\n",
    "epochs = 2\n",
    "\n",
    "scheduler = OneCycleLR(\n",
    "    optimiser,\n",
    "    max_lr=2e-3,\n",
    "    steps_per_epoch=len(train_dloader),\n",
    "    epochs=epochs,\n",
    "    pct_start=0.3,      # portion of cycle to increase LR\n",
    "    anneal_strategy='cos',  # cosine annealing down\n",
    ")\n",
    "\n",
    "for epoch in range(epochs):\n",
    "    train_loss, val_loss, val_acc = train_model(CNN_Model, optimiser, loss_fcn, train_dloader, val_dloader, epoch, device, scaler, scheduler)\n"
   ]
  },
  {
   "cell_type": "code",
   "execution_count": 4,
   "id": "4cf58016",
   "metadata": {},
   "outputs": [
    {
     "name": "stderr",
     "output_type": "stream",
     "text": [
      "                                                          \r"
     ]
    },
    {
     "name": "stdout",
     "output_type": "stream",
     "text": [
      "[Epoch  1] Training accuracy: 91.93%, Validation accuracy: 91.17%\n"
     ]
    },
    {
     "name": "stderr",
     "output_type": "stream",
     "text": [
      "                                                          \r"
     ]
    },
    {
     "name": "stdout",
     "output_type": "stream",
     "text": [
      "[Epoch  2] Training accuracy: 93.22%, Validation accuracy: 92.20%\n"
     ]
    },
    {
     "name": "stderr",
     "output_type": "stream",
     "text": [
      "                                                          \r"
     ]
    },
    {
     "name": "stdout",
     "output_type": "stream",
     "text": [
      "[Epoch  3] Training accuracy: 94.02%, Validation accuracy: 90.42%\n"
     ]
    },
    {
     "name": "stderr",
     "output_type": "stream",
     "text": [
      "                                                          \r"
     ]
    },
    {
     "name": "stdout",
     "output_type": "stream",
     "text": [
      "[Epoch  4] Training accuracy: 95.09%, Validation accuracy: 92.16%\n"
     ]
    },
    {
     "name": "stderr",
     "output_type": "stream",
     "text": [
      "                                                          \r"
     ]
    },
    {
     "name": "stdout",
     "output_type": "stream",
     "text": [
      "[Epoch  5] Training accuracy: 95.97%, Validation accuracy: 91.54%\n"
     ]
    },
    {
     "name": "stderr",
     "output_type": "stream",
     "text": [
      "                                                          \r"
     ]
    },
    {
     "name": "stdout",
     "output_type": "stream",
     "text": [
      "[Epoch  6] Training accuracy: 96.76%, Validation accuracy: 90.69%\n"
     ]
    },
    {
     "name": "stderr",
     "output_type": "stream",
     "text": [
      "                                                          \r"
     ]
    },
    {
     "name": "stdout",
     "output_type": "stream",
     "text": [
      "[Epoch  7] Training accuracy: 97.40%, Validation accuracy: 91.81%\n"
     ]
    },
    {
     "name": "stderr",
     "output_type": "stream",
     "text": [
      "                                                          \r"
     ]
    },
    {
     "name": "stdout",
     "output_type": "stream",
     "text": [
      "[Epoch  8] Training accuracy: 97.98%, Validation accuracy: 91.57%\n"
     ]
    }
   ],
   "source": [
    "for epoch in range(8):\n",
    "    train_loss, val_loss, val_acc = train_model(CNN_Model, optimiser, loss_fcn, train_dloader, val_dloader, epoch, device, scaler)"
   ]
  },
  {
   "cell_type": "code",
   "execution_count": null,
   "id": "75d26452",
   "metadata": {},
   "outputs": [],
   "source": []
  },
  {
   "cell_type": "code",
   "execution_count": 5,
   "id": "9eb7f5d2",
   "metadata": {},
   "outputs": [
    {
     "name": "stdout",
     "output_type": "stream",
     "text": [
      "Test accuracy: 0.9202\n"
     ]
    }
   ],
   "source": [
    "test_acc = evaluate_overall(CNN_Model, test_dloader, device)\n",
    "print(f\"Test accuracy: {test_acc:.4f}\")"
   ]
  },
  {
   "cell_type": "code",
   "execution_count": null,
   "id": "4a64f45b",
   "metadata": {},
   "outputs": [],
   "source": []
  }
 ],
 "metadata": {
  "kernelspec": {
   "display_name": "uni_conda",
   "language": "python",
   "name": "python3"
  },
  "language_info": {
   "codemirror_mode": {
    "name": "ipython",
    "version": 3
   },
   "file_extension": ".py",
   "mimetype": "text/x-python",
   "name": "python",
   "nbconvert_exporter": "python",
   "pygments_lexer": "ipython3",
   "version": "3.11.0"
  }
 },
 "nbformat": 4,
 "nbformat_minor": 5
}
