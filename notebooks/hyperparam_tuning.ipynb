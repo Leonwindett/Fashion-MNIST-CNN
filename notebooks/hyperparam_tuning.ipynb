{
 "cells": [
  {
   "cell_type": "code",
   "execution_count": 3,
   "id": "7395561a",
   "metadata": {},
   "outputs": [],
   "source": [
    "from importlib import reload\n",
    "\n",
    "import sys\n",
    "import os\n",
    "\n",
    "current_dir = os.getcwd()\n",
    "parent_dir = os.path.dirname(current_dir)\n",
    "\n",
    "\n",
    "sys.path.append(parent_dir)\n",
    "\n",
    "import src\n",
    "\n",
    "from src.utils import load_MNIST_data\n",
    "from src.model import Simple_Model\n",
    "from src.train import train_model, tune_model\n",
    "from src.inference import evaluate_overall, evaluate_classwise, confusion_matrix_plot, plot_roc_curves\n",
    "reload(src.train)\n",
    "reload(src.model)\n",
    "reload(src.utils)\n",
    "reload(src.inference)\n",
    "\n",
    "import torch\n",
    "import torch.nn as nn\n",
    "\n",
    "import numpy as np\n",
    "import matplotlib.pyplot as plt\n",
    "\n"
   ]
  },
  {
   "cell_type": "code",
   "execution_count": 7,
   "id": "fdcfb647",
   "metadata": {},
   "outputs": [],
   "source": [
    "train_dloader, val_dloader, test_dloader = load_MNIST_data(batch_size = 128, num_workers=4) # try increase batch size to 128"
   ]
  },
  {
   "cell_type": "code",
   "execution_count": 3,
   "id": "a4e859b4",
   "metadata": {},
   "outputs": [],
   "source": [
    "hyperparam_space = {\n",
    "    \"lr\": {\"type\": \"float\", \"low\": 1e-5, \"high\": 1e-2, \"log\": True},\n",
    "    \"weight_decay\": {\"type\": \"float\", \"low\": 1e-5, \"high\": 1e-2, \"log\": True},\n",
    "    \"out_channels\": {\"type\": \"int\", \"low\": 4, \"high\": 16},\n",
    "    \"kernel_size\": {\"type\": \"int\", \"low\": 3, \"high\": 7}\n",
    "}"
   ]
  },
  {
   "cell_type": "code",
   "execution_count": 10,
   "id": "ac1c74de",
   "metadata": {},
   "outputs": [],
   "source": [
    "device = torch.device(\"mps\")"
   ]
  },
  {
   "cell_type": "code",
   "execution_count": 6,
   "id": "811ae484",
   "metadata": {},
   "outputs": [
    {
     "ename": "NameError",
     "evalue": "name 'train_dloader' is not defined",
     "output_type": "error",
     "traceback": [
      "\u001b[0;31m---------------------------------------------------------------------------\u001b[0m",
      "\u001b[0;31mNameError\u001b[0m                                 Traceback (most recent call last)",
      "Cell \u001b[0;32mIn[6], line 1\u001b[0m\n\u001b[0;32m----> 1\u001b[0m tune_model(Simple_Model, \u001b[43mtrain_dloader\u001b[49m, val_dloader, model_name\u001b[38;5;241m=\u001b[39m\u001b[38;5;124m\"\u001b[39m\u001b[38;5;124mSimple_CNN_v3\u001b[39m\u001b[38;5;124m\"\u001b[39m, device\u001b[38;5;241m=\u001b[39mdevice, n_trials\u001b[38;5;241m=\u001b[39m\u001b[38;5;241m50\u001b[39m, hyperparam_space\u001b[38;5;241m=\u001b[39mhyperparam_space, epochs\u001b[38;5;241m=\u001b[39m\u001b[38;5;241m3\u001b[39m, project_name\u001b[38;5;241m=\u001b[39m\u001b[38;5;124m\"\u001b[39m\u001b[38;5;124mFashion-MNIST-CNN_v3\u001b[39m\u001b[38;5;124m\"\u001b[39m)\n",
      "\u001b[0;31mNameError\u001b[0m: name 'train_dloader' is not defined"
     ]
    }
   ],
   "source": [
    "\n",
    "tune_model(Simple_Model, train_dloader, val_dloader, model_name=\"Simple_CNN_v3\", device=device, n_trials=50, hyperparam_space=hyperparam_space, epochs=3, project_name=\"Fashion-MNIST-CNN_v3\")"
   ]
  },
  {
   "cell_type": "code",
   "execution_count": 8,
   "id": "47e35698",
   "metadata": {},
   "outputs": [
    {
     "name": "stdout",
     "output_type": "stream",
     "text": [
      "Optimal Hyperparameters found:  {'lr': 0.004717057291945161, 'weight_decay': 0.0001588709253642451, 'out_channels': 16, 'kernel_size': 3}\n"
     ]
    }
   ],
   "source": [
    "\n",
    "# Load optimal parameters first\n",
    "import json\n",
    "\n",
    "with open(\"/Users/leonwindett/VS_CODE/Projects/FASHION-MNIST-CNN/saved_models/Simple_CNN_v3/study_params.json\", \"r\") as f:\n",
    "    optimal_params = json.load(f)\n",
    "\n",
    "print(\"Optimal Hyperparameters found: \", optimal_params)\n",
    "\n",
    "# Create model instance with optimal parameters\n",
    "# Initialize model with optimal parameters\n",
    "CNN_Model = Simple_Model(\n",
    "    out_channels=optimal_params[\"out_channels\"],\n",
    "    kernel_size=optimal_params[\"kernel_size\"]\n",
    ")\n",
    "\n",
    "# Load the pre-trained weights\n",
    "CNN_Model.load_state_dict(torch.load(os.path.join(parent_dir, \"saved_models/Simple_CNN_v3/best_model.pth\")))\n",
    "optimiser = torch.optim.AdamW(CNN_Model.parameters(), lr=optimal_params[\"lr\"], weight_decay=optimal_params[\"weight_decay\"])\n",
    "loss_fcn = nn.CrossEntropyLoss()\n",
    "\n",
    "\n"
   ]
  },
  {
   "cell_type": "code",
   "execution_count": 11,
   "id": "a25066a4",
   "metadata": {},
   "outputs": [
    {
     "name": "stderr",
     "output_type": "stream",
     "text": [
      "                                                           \r"
     ]
    },
    {
     "name": "stdout",
     "output_type": "stream",
     "text": [
      "[Epoch  1] Training accuracy: 90.75%, Validation accuracy: 89.31%\n"
     ]
    },
    {
     "name": "stderr",
     "output_type": "stream",
     "text": [
      "                                                           \r"
     ]
    },
    {
     "name": "stdout",
     "output_type": "stream",
     "text": [
      "[Epoch  2] Training accuracy: 91.84%, Validation accuracy: 89.02%\n"
     ]
    },
    {
     "name": "stderr",
     "output_type": "stream",
     "text": [
      "                                                           \r"
     ]
    },
    {
     "name": "stdout",
     "output_type": "stream",
     "text": [
      "[Epoch  3] Training accuracy: 92.13%, Validation accuracy: 89.68%\n"
     ]
    },
    {
     "name": "stderr",
     "output_type": "stream",
     "text": [
      "                                                           \r"
     ]
    },
    {
     "name": "stdout",
     "output_type": "stream",
     "text": [
      "[Epoch  4] Training accuracy: 92.75%, Validation accuracy: 89.43%\n"
     ]
    },
    {
     "name": "stderr",
     "output_type": "stream",
     "text": [
      "                                                           \r"
     ]
    },
    {
     "name": "stdout",
     "output_type": "stream",
     "text": [
      "[Epoch  5] Training accuracy: 93.02%, Validation accuracy: 90.06%\n"
     ]
    },
    {
     "name": "stderr",
     "output_type": "stream",
     "text": [
      "                                                           \r"
     ]
    },
    {
     "name": "stdout",
     "output_type": "stream",
     "text": [
      "[Epoch  6] Training accuracy: 93.26%, Validation accuracy: 89.99%\n"
     ]
    },
    {
     "name": "stderr",
     "output_type": "stream",
     "text": [
      "                                                           \r"
     ]
    },
    {
     "name": "stdout",
     "output_type": "stream",
     "text": [
      "[Epoch  7] Training accuracy: 93.58%, Validation accuracy: 89.28%\n"
     ]
    },
    {
     "name": "stderr",
     "output_type": "stream",
     "text": [
      "                                                           \r"
     ]
    },
    {
     "name": "stdout",
     "output_type": "stream",
     "text": [
      "[Epoch  8] Training accuracy: 93.84%, Validation accuracy: 89.36%\n"
     ]
    },
    {
     "name": "stderr",
     "output_type": "stream",
     "text": [
      "                                                           \r"
     ]
    },
    {
     "name": "stdout",
     "output_type": "stream",
     "text": [
      "[Epoch  9] Training accuracy: 94.16%, Validation accuracy: 89.58%\n"
     ]
    },
    {
     "name": "stderr",
     "output_type": "stream",
     "text": [
      "                                                            \r"
     ]
    },
    {
     "name": "stdout",
     "output_type": "stream",
     "text": [
      "[Epoch 10] Training accuracy: 94.19%, Validation accuracy: 89.90%\n",
      "Early stopping triggered\n"
     ]
    }
   ],
   "source": [
    "best_val_acc = 0\n",
    "patience = 5\n",
    "counter = 0\n",
    "for epoch in range(30):\n",
    "    train_loss, val_loss, val_acc = train_model(CNN_Model, optimiser, loss_fcn, train_dloader, val_dloader, epoch, device=device, print_training=True)\n",
    "    if val_acc > best_val_acc:\n",
    "        best_val_acc = val_acc\n",
    "        counter = 0\n",
    "    else:\n",
    "        counter += 1\n",
    "\n",
    "    if counter >= patience:\n",
    "        print(\"Early stopping triggered\")\n",
    "        break\n"
   ]
  },
  {
   "cell_type": "markdown",
   "id": "7680756f",
   "metadata": {},
   "source": [
    "Model began to overfit"
   ]
  },
  {
   "cell_type": "code",
   "execution_count": 12,
   "id": "dd0ce8c6",
   "metadata": {},
   "outputs": [
    {
     "name": "stdout",
     "output_type": "stream",
     "text": [
      "Test accuracy: 0.8959\n"
     ]
    }
   ],
   "source": [
    "test_acc = evaluate_overall(CNN_Model, test_dloader, device)\n",
    "print(f\"Test accuracy: {test_acc:.4f}\")"
   ]
  },
  {
   "cell_type": "code",
   "execution_count": null,
   "id": "bc4fbba6",
   "metadata": {},
   "outputs": [],
   "source": []
  }
 ],
 "metadata": {
  "kernelspec": {
   "display_name": "uni_conda",
   "language": "python",
   "name": "python3"
  },
  "language_info": {
   "codemirror_mode": {
    "name": "ipython",
    "version": 3
   },
   "file_extension": ".py",
   "mimetype": "text/x-python",
   "name": "python",
   "nbconvert_exporter": "python",
   "pygments_lexer": "ipython3",
   "version": "3.11.0"
  }
 },
 "nbformat": 4,
 "nbformat_minor": 5
}
