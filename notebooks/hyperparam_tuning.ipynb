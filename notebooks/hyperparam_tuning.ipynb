{
 "cells": [
  {
   "cell_type": "code",
   "execution_count": 1,
   "id": "7395561a",
   "metadata": {},
   "outputs": [],
   "source": [
    "from importlib import reload\n",
    "\n",
    "import sys\n",
    "import os\n",
    "\n",
    "current_dir = os.getcwd()\n",
    "parent_dir = os.path.dirname(current_dir)\n",
    "\n",
    "\n",
    "sys.path.append(parent_dir)\n",
    "\n",
    "import src\n",
    "reload(src)\n",
    "\n",
    "from src.utils import load_MNIST_data\n",
    "from src.model import Simple_Model\n",
    "from src.train import train_model, tune_model\n",
    "from src.inference import evaluate_overall, evaluate_classwise, confusion_matrix_plot, plot_roc_curves\n",
    "\n",
    "import torch\n",
    "import torch.nn as nn\n",
    "\n",
    "import numpy as np\n",
    "import matplotlib.pyplot as plt"
   ]
  },
  {
   "cell_type": "code",
   "execution_count": 2,
   "id": "fdcfb647",
   "metadata": {},
   "outputs": [],
   "source": [
    "train_dloader, val_dloader, test_dloader = load_MNIST_data(batch_size = 64)"
   ]
  },
  {
   "cell_type": "code",
   "execution_count": 3,
   "id": "a4e859b4",
   "metadata": {},
   "outputs": [],
   "source": [
    "hyperparam_space = {\n",
    "    \"lr\": {\"type\": \"float\", \"low\": 1e-5, \"high\": 1e-2, \"log\": True},\n",
    "    \"weight_decay\": {\"type\": \"float\", \"low\": 1e-5, \"high\": 1e-2, \"log\": True},\n",
    "    \"optimizer\": {\"type\": \"categorical\", \"choices\": [\"AdamW\", \"Adam\", \"SGD\"]},\n",
    "    \"momentum\": {\"type\": \"float\", \"low\": 0.0, \"high\": 0.9},\n",
    "    \"out_channels\": {\"type\": \"int\", \"low\": 4, \"high\": 16},\n",
    "    \"kernel_size\": {\"type\": \"int\", \"low\": 3, \"high\": 7}\n",
    "}"
   ]
  },
  {
   "cell_type": "code",
   "execution_count": 4,
   "id": "ac1c74de",
   "metadata": {},
   "outputs": [],
   "source": [
    "device = torch.device(\"mps\")"
   ]
  },
  {
   "cell_type": "code",
   "execution_count": 5,
   "id": "811ae484",
   "metadata": {},
   "outputs": [
    {
     "name": "stderr",
     "output_type": "stream",
     "text": [
      "[I 2025-09-07 18:05:48,976] A new study created in memory with name: no-name-19b22fcb-7fae-4902-8edc-a88a71a7d281\n",
      "\u001b[34m\u001b[1mwandb\u001b[0m: Currently logged in as: \u001b[33mleon-windett\u001b[0m (\u001b[33mleon-windett-imperial-college-london\u001b[0m) to \u001b[32mhttps://api.wandb.ai\u001b[0m. Use \u001b[1m`wandb login --relogin`\u001b[0m to force relogin\n",
      "\u001b[34m\u001b[1mwandb\u001b[0m: \u001b[33mWARNING\u001b[0m Using a boolean value for 'reinit' is deprecated. Use 'return_previous' or 'finish_previous' instead.\n"
     ]
    },
    {
     "data": {
      "text/html": [
       "Waiting for wandb.init()..."
      ],
      "text/plain": [
       "<IPython.core.display.HTML object>"
      ]
     },
     "metadata": {},
     "output_type": "display_data"
    },
    {
     "data": {
      "text/html": [
       "Tracking run with wandb version 0.21.3"
      ],
      "text/plain": [
       "<IPython.core.display.HTML object>"
      ]
     },
     "metadata": {},
     "output_type": "display_data"
    },
    {
     "data": {
      "text/html": [
       "Run data is saved locally in <code>../wandb_logs/wandb/run-20250907_180549-ngjffqjy</code>"
      ],
      "text/plain": [
       "<IPython.core.display.HTML object>"
      ]
     },
     "metadata": {},
     "output_type": "display_data"
    },
    {
     "data": {
      "text/html": [
       "Syncing run <strong><a href='https://wandb.ai/leon-windett-imperial-college-london/Fashion-MNIST-CNN_v1/runs/ngjffqjy' target=\"_blank\">Simple_CNN_trial_0</a></strong> to <a href='https://wandb.ai/leon-windett-imperial-college-london/Fashion-MNIST-CNN_v1' target=\"_blank\">Weights & Biases</a> (<a href='https://wandb.me/developer-guide' target=\"_blank\">docs</a>)<br>"
      ],
      "text/plain": [
       "<IPython.core.display.HTML object>"
      ]
     },
     "metadata": {},
     "output_type": "display_data"
    },
    {
     "data": {
      "text/html": [
       " View project at <a href='https://wandb.ai/leon-windett-imperial-college-london/Fashion-MNIST-CNN_v1' target=\"_blank\">https://wandb.ai/leon-windett-imperial-college-london/Fashion-MNIST-CNN_v1</a>"
      ],
      "text/plain": [
       "<IPython.core.display.HTML object>"
      ]
     },
     "metadata": {},
     "output_type": "display_data"
    },
    {
     "data": {
      "text/html": [
       " View run at <a href='https://wandb.ai/leon-windett-imperial-college-london/Fashion-MNIST-CNN_v1/runs/ngjffqjy' target=\"_blank\">https://wandb.ai/leon-windett-imperial-college-london/Fashion-MNIST-CNN_v1/runs/ngjffqjy</a>"
      ],
      "text/plain": [
       "<IPython.core.display.HTML object>"
      ]
     },
     "metadata": {},
     "output_type": "display_data"
    },
    {
     "name": "stderr",
     "output_type": "stream",
     "text": [
      "                                                           \r"
     ]
    },
    {
     "name": "stdout",
     "output_type": "stream",
     "text": [
      "[Epoch  1] Training accuracy: 64.46%, Validation accuracy: 73.12%\n",
      "\n"
     ]
    },
    {
     "name": "stderr",
     "output_type": "stream",
     "text": [
      "                                                           \r"
     ]
    },
    {
     "name": "stdout",
     "output_type": "stream",
     "text": [
      "[Epoch  2] Training accuracy: 75.06%, Validation accuracy: 76.43%\n",
      "\n"
     ]
    },
    {
     "name": "stderr",
     "output_type": "stream",
     "text": [
      "                                                           \r"
     ]
    },
    {
     "name": "stdout",
     "output_type": "stream",
     "text": [
      "[Epoch  3] Training accuracy: 77.83%, Validation accuracy: 78.50%\n",
      "\n"
     ]
    },
    {
     "name": "stderr",
     "output_type": "stream",
     "text": [
      "                                                           \r"
     ]
    },
    {
     "name": "stdout",
     "output_type": "stream",
     "text": [
      "[Epoch  4] Training accuracy: 79.51%, Validation accuracy: 79.75%\n",
      "\n"
     ]
    },
    {
     "name": "stderr",
     "output_type": "stream",
     "text": [
      "\u001b[34m\u001b[1mwandb\u001b[0m: \u001b[32m\u001b[41mERROR\u001b[0m The nbformat package was not found. It is required to save notebook history.\n"
     ]
    },
    {
     "name": "stdout",
     "output_type": "stream",
     "text": [
      "[Epoch  5] Training accuracy: 80.65%, Validation accuracy: 80.91%\n",
      "\n"
     ]
    },
    {
     "data": {
      "text/html": [],
      "text/plain": [
       "<IPython.core.display.HTML object>"
      ]
     },
     "metadata": {},
     "output_type": "display_data"
    },
    {
     "data": {
      "text/html": [
       "<br>    <style><br>        .wandb-row {<br>            display: flex;<br>            flex-direction: row;<br>            flex-wrap: wrap;<br>            justify-content: flex-start;<br>            width: 100%;<br>        }<br>        .wandb-col {<br>            display: flex;<br>            flex-direction: column;<br>            flex-basis: 100%;<br>            flex: 1;<br>            padding: 10px;<br>        }<br>    </style><br><div class=\"wandb-row\"><div class=\"wandb-col\"><h3>Run history:</h3><br/><table class=\"wandb\"><tr><td>train_loss</td><td>█▃▂▁▁</td></tr><tr><td>val_acc</td><td>▁▄▆▇█</td></tr><tr><td>val_loss</td><td>█▄▃▂▁</td></tr></table><br/></div><div class=\"wandb-col\"><h3>Run summary:</h3><br/><table class=\"wandb\"><tr><td>train_loss</td><td>0.00854</td></tr><tr><td>val_acc</td><td>0.80908</td></tr><tr><td>val_loss</td><td>0.00842</td></tr></table><br/></div></div>"
      ],
      "text/plain": [
       "<IPython.core.display.HTML object>"
      ]
     },
     "metadata": {},
     "output_type": "display_data"
    },
    {
     "data": {
      "text/html": [
       " View run <strong style=\"color:#cdcd00\">Simple_CNN_trial_0</strong> at: <a href='https://wandb.ai/leon-windett-imperial-college-london/Fashion-MNIST-CNN_v1/runs/ngjffqjy' target=\"_blank\">https://wandb.ai/leon-windett-imperial-college-london/Fashion-MNIST-CNN_v1/runs/ngjffqjy</a><br> View project at: <a href='https://wandb.ai/leon-windett-imperial-college-london/Fashion-MNIST-CNN_v1' target=\"_blank\">https://wandb.ai/leon-windett-imperial-college-london/Fashion-MNIST-CNN_v1</a><br>Synced 5 W&B file(s), 0 media file(s), 0 artifact file(s) and 0 other file(s)"
      ],
      "text/plain": [
       "<IPython.core.display.HTML object>"
      ]
     },
     "metadata": {},
     "output_type": "display_data"
    },
    {
     "data": {
      "text/html": [
       "Find logs at: <code>../wandb_logs/wandb/run-20250907_180549-ngjffqjy/logs</code>"
      ],
      "text/plain": [
       "<IPython.core.display.HTML object>"
      ]
     },
     "metadata": {},
     "output_type": "display_data"
    },
    {
     "name": "stderr",
     "output_type": "stream",
     "text": [
      "[I 2025-09-07 18:06:38,183] Trial 0 finished with value: 0.8090833333333334 and parameters: {'lr': 0.0015297615925555534, 'weight_decay': 0.00269718823729043, 'optimizer': 'SGD', 'momentum': 0.006255050837811071, 'out_channels': 10, 'kernel_size': 4}. Best is trial 0 with value: 0.8090833333333334.\n"
     ]
    },
    {
     "data": {
      "text/html": [
       "Waiting for wandb.init()..."
      ],
      "text/plain": [
       "<IPython.core.display.HTML object>"
      ]
     },
     "metadata": {},
     "output_type": "display_data"
    },
    {
     "data": {
      "text/html": [
       "Tracking run with wandb version 0.21.3"
      ],
      "text/plain": [
       "<IPython.core.display.HTML object>"
      ]
     },
     "metadata": {},
     "output_type": "display_data"
    },
    {
     "data": {
      "text/html": [
       "Run data is saved locally in <code>../wandb_logs/wandb/run-20250907_180638-42ft50tz</code>"
      ],
      "text/plain": [
       "<IPython.core.display.HTML object>"
      ]
     },
     "metadata": {},
     "output_type": "display_data"
    },
    {
     "data": {
      "text/html": [
       "Syncing run <strong><a href='https://wandb.ai/leon-windett-imperial-college-london/Fashion-MNIST-CNN_v1/runs/42ft50tz' target=\"_blank\">Simple_CNN_trial_1</a></strong> to <a href='https://wandb.ai/leon-windett-imperial-college-london/Fashion-MNIST-CNN_v1' target=\"_blank\">Weights & Biases</a> (<a href='https://wandb.me/developer-guide' target=\"_blank\">docs</a>)<br>"
      ],
      "text/plain": [
       "<IPython.core.display.HTML object>"
      ]
     },
     "metadata": {},
     "output_type": "display_data"
    },
    {
     "data": {
      "text/html": [
       " View project at <a href='https://wandb.ai/leon-windett-imperial-college-london/Fashion-MNIST-CNN_v1' target=\"_blank\">https://wandb.ai/leon-windett-imperial-college-london/Fashion-MNIST-CNN_v1</a>"
      ],
      "text/plain": [
       "<IPython.core.display.HTML object>"
      ]
     },
     "metadata": {},
     "output_type": "display_data"
    },
    {
     "data": {
      "text/html": [
       " View run at <a href='https://wandb.ai/leon-windett-imperial-college-london/Fashion-MNIST-CNN_v1/runs/42ft50tz' target=\"_blank\">https://wandb.ai/leon-windett-imperial-college-london/Fashion-MNIST-CNN_v1/runs/42ft50tz</a>"
      ],
      "text/plain": [
       "<IPython.core.display.HTML object>"
      ]
     },
     "metadata": {},
     "output_type": "display_data"
    },
    {
     "name": "stderr",
     "output_type": "stream",
     "text": [
      "                                                          \r"
     ]
    },
    {
     "name": "stdout",
     "output_type": "stream",
     "text": [
      "[Epoch  1] Training accuracy: 84.41%, Validation accuracy: 88.05%\n",
      "\n"
     ]
    },
    {
     "name": "stderr",
     "output_type": "stream",
     "text": [
      "                                                           \r"
     ]
    },
    {
     "name": "stdout",
     "output_type": "stream",
     "text": [
      "[Epoch  2] Training accuracy: 88.76%, Validation accuracy: 88.65%\n",
      "\n"
     ]
    },
    {
     "name": "stderr",
     "output_type": "stream",
     "text": [
      "                                                           \r"
     ]
    },
    {
     "name": "stdout",
     "output_type": "stream",
     "text": [
      "[Epoch  3] Training accuracy: 89.67%, Validation accuracy: 87.72%\n",
      "\n"
     ]
    },
    {
     "name": "stderr",
     "output_type": "stream",
     "text": [
      "                                                           \r"
     ]
    },
    {
     "name": "stdout",
     "output_type": "stream",
     "text": [
      "[Epoch  4] Training accuracy: 90.56%, Validation accuracy: 89.68%\n",
      "\n"
     ]
    },
    {
     "name": "stderr",
     "output_type": "stream",
     "text": [
      "\u001b[34m\u001b[1mwandb\u001b[0m: \u001b[32m\u001b[41mERROR\u001b[0m The nbformat package was not found. It is required to save notebook history.\n"
     ]
    },
    {
     "name": "stdout",
     "output_type": "stream",
     "text": [
      "[Epoch  5] Training accuracy: 91.06%, Validation accuracy: 89.24%\n",
      "\n"
     ]
    },
    {
     "data": {
      "text/html": [],
      "text/plain": [
       "<IPython.core.display.HTML object>"
      ]
     },
     "metadata": {},
     "output_type": "display_data"
    },
    {
     "data": {
      "text/html": [
       "<br>    <style><br>        .wandb-row {<br>            display: flex;<br>            flex-direction: row;<br>            flex-wrap: wrap;<br>            justify-content: flex-start;<br>            width: 100%;<br>        }<br>        .wandb-col {<br>            display: flex;<br>            flex-direction: column;<br>            flex-basis: 100%;<br>            flex: 1;<br>            padding: 10px;<br>        }<br>    </style><br><div class=\"wandb-row\"><div class=\"wandb-col\"><h3>Run history:</h3><br/><table class=\"wandb\"><tr><td>train_loss</td><td>█▄▂▂▁</td></tr><tr><td>val_acc</td><td>▂▄▁█▆</td></tr><tr><td>val_loss</td><td>█▄█▁▂</td></tr></table><br/></div><div class=\"wandb-col\"><h3>Run summary:</h3><br/><table class=\"wandb\"><tr><td>train_loss</td><td>0.00391</td></tr><tr><td>val_acc</td><td>0.89242</td></tr><tr><td>val_loss</td><td>0.00485</td></tr></table><br/></div></div>"
      ],
      "text/plain": [
       "<IPython.core.display.HTML object>"
      ]
     },
     "metadata": {},
     "output_type": "display_data"
    },
    {
     "data": {
      "text/html": [
       " View run <strong style=\"color:#cdcd00\">Simple_CNN_trial_1</strong> at: <a href='https://wandb.ai/leon-windett-imperial-college-london/Fashion-MNIST-CNN_v1/runs/42ft50tz' target=\"_blank\">https://wandb.ai/leon-windett-imperial-college-london/Fashion-MNIST-CNN_v1/runs/42ft50tz</a><br> View project at: <a href='https://wandb.ai/leon-windett-imperial-college-london/Fashion-MNIST-CNN_v1' target=\"_blank\">https://wandb.ai/leon-windett-imperial-college-london/Fashion-MNIST-CNN_v1</a><br>Synced 5 W&B file(s), 0 media file(s), 0 artifact file(s) and 0 other file(s)"
      ],
      "text/plain": [
       "<IPython.core.display.HTML object>"
      ]
     },
     "metadata": {},
     "output_type": "display_data"
    },
    {
     "data": {
      "text/html": [
       "Find logs at: <code>../wandb_logs/wandb/run-20250907_180638-42ft50tz/logs</code>"
      ],
      "text/plain": [
       "<IPython.core.display.HTML object>"
      ]
     },
     "metadata": {},
     "output_type": "display_data"
    },
    {
     "name": "stderr",
     "output_type": "stream",
     "text": [
      "[I 2025-09-07 18:07:31,034] Trial 1 finished with value: 0.8924166666666666 and parameters: {'lr': 0.001863740774318888, 'weight_decay': 0.006123905783334468, 'optimizer': 'AdamW', 'momentum': 0.5724316896713948, 'out_channels': 14, 'kernel_size': 5}. Best is trial 1 with value: 0.8924166666666666.\n"
     ]
    },
    {
     "data": {
      "text/html": [
       "Waiting for wandb.init()..."
      ],
      "text/plain": [
       "<IPython.core.display.HTML object>"
      ]
     },
     "metadata": {},
     "output_type": "display_data"
    },
    {
     "data": {
      "text/html": [
       "Tracking run with wandb version 0.21.3"
      ],
      "text/plain": [
       "<IPython.core.display.HTML object>"
      ]
     },
     "metadata": {},
     "output_type": "display_data"
    },
    {
     "data": {
      "text/html": [
       "Run data is saved locally in <code>../wandb_logs/wandb/run-20250907_180731-elqhxt92</code>"
      ],
      "text/plain": [
       "<IPython.core.display.HTML object>"
      ]
     },
     "metadata": {},
     "output_type": "display_data"
    },
    {
     "data": {
      "text/html": [
       "Syncing run <strong><a href='https://wandb.ai/leon-windett-imperial-college-london/Fashion-MNIST-CNN_v1/runs/elqhxt92' target=\"_blank\">Simple_CNN_trial_2</a></strong> to <a href='https://wandb.ai/leon-windett-imperial-college-london/Fashion-MNIST-CNN_v1' target=\"_blank\">Weights & Biases</a> (<a href='https://wandb.me/developer-guide' target=\"_blank\">docs</a>)<br>"
      ],
      "text/plain": [
       "<IPython.core.display.HTML object>"
      ]
     },
     "metadata": {},
     "output_type": "display_data"
    },
    {
     "data": {
      "text/html": [
       " View project at <a href='https://wandb.ai/leon-windett-imperial-college-london/Fashion-MNIST-CNN_v1' target=\"_blank\">https://wandb.ai/leon-windett-imperial-college-london/Fashion-MNIST-CNN_v1</a>"
      ],
      "text/plain": [
       "<IPython.core.display.HTML object>"
      ]
     },
     "metadata": {},
     "output_type": "display_data"
    },
    {
     "data": {
      "text/html": [
       " View run at <a href='https://wandb.ai/leon-windett-imperial-college-london/Fashion-MNIST-CNN_v1/runs/elqhxt92' target=\"_blank\">https://wandb.ai/leon-windett-imperial-college-london/Fashion-MNIST-CNN_v1/runs/elqhxt92</a>"
      ],
      "text/plain": [
       "<IPython.core.display.HTML object>"
      ]
     },
     "metadata": {},
     "output_type": "display_data"
    },
    {
     "name": "stderr",
     "output_type": "stream",
     "text": [
      "                                                           \r"
     ]
    },
    {
     "name": "stdout",
     "output_type": "stream",
     "text": [
      "[Epoch  1] Training accuracy: 80.46%, Validation accuracy: 84.94%\n",
      "\n"
     ]
    },
    {
     "name": "stderr",
     "output_type": "stream",
     "text": [
      "                                                           \r"
     ]
    },
    {
     "name": "stdout",
     "output_type": "stream",
     "text": [
      "[Epoch  2] Training accuracy: 86.21%, Validation accuracy: 85.85%\n",
      "\n"
     ]
    },
    {
     "name": "stderr",
     "output_type": "stream",
     "text": [
      "                                                           \r"
     ]
    },
    {
     "name": "stdout",
     "output_type": "stream",
     "text": [
      "[Epoch  3] Training accuracy: 87.70%, Validation accuracy: 87.45%\n",
      "\n"
     ]
    },
    {
     "name": "stderr",
     "output_type": "stream",
     "text": [
      "                                                          \r"
     ]
    },
    {
     "name": "stdout",
     "output_type": "stream",
     "text": [
      "[Epoch  4] Training accuracy: 88.59%, Validation accuracy: 88.05%\n",
      "\n"
     ]
    },
    {
     "name": "stderr",
     "output_type": "stream",
     "text": [
      "                                                           \r"
     ]
    },
    {
     "name": "stdout",
     "output_type": "stream",
     "text": [
      "[Epoch  5] Training accuracy: 89.33%, Validation accuracy: 88.11%\n",
      "\n"
     ]
    },
    {
     "data": {
      "text/html": [],
      "text/plain": [
       "<IPython.core.display.HTML object>"
      ]
     },
     "metadata": {},
     "output_type": "display_data"
    },
    {
     "data": {
      "text/html": [
       "<br>    <style><br>        .wandb-row {<br>            display: flex;<br>            flex-direction: row;<br>            flex-wrap: wrap;<br>            justify-content: flex-start;<br>            width: 100%;<br>        }<br>        .wandb-col {<br>            display: flex;<br>            flex-direction: column;<br>            flex-basis: 100%;<br>            flex: 1;<br>            padding: 10px;<br>        }<br>    </style><br><div class=\"wandb-row\"><div class=\"wandb-col\"><h3>Run history:</h3><br/><table class=\"wandb\"><tr><td>train_loss</td><td>█▃▂▂▁</td></tr><tr><td>val_acc</td><td>▁▃▇██</td></tr><tr><td>val_loss</td><td>█▆▃▂▁</td></tr></table><br/></div><div class=\"wandb-col\"><h3>Run summary:</h3><br/><table class=\"wandb\"><tr><td>train_loss</td><td>0.00476</td></tr><tr><td>val_acc</td><td>0.88108</td></tr><tr><td>val_loss</td><td>0.00519</td></tr></table><br/></div></div>"
      ],
      "text/plain": [
       "<IPython.core.display.HTML object>"
      ]
     },
     "metadata": {},
     "output_type": "display_data"
    },
    {
     "data": {
      "text/html": [
       " View run <strong style=\"color:#cdcd00\">Simple_CNN_trial_2</strong> at: <a href='https://wandb.ai/leon-windett-imperial-college-london/Fashion-MNIST-CNN_v1/runs/elqhxt92' target=\"_blank\">https://wandb.ai/leon-windett-imperial-college-london/Fashion-MNIST-CNN_v1/runs/elqhxt92</a><br> View project at: <a href='https://wandb.ai/leon-windett-imperial-college-london/Fashion-MNIST-CNN_v1' target=\"_blank\">https://wandb.ai/leon-windett-imperial-college-london/Fashion-MNIST-CNN_v1</a><br>Synced 5 W&B file(s), 0 media file(s), 0 artifact file(s) and 0 other file(s)"
      ],
      "text/plain": [
       "<IPython.core.display.HTML object>"
      ]
     },
     "metadata": {},
     "output_type": "display_data"
    },
    {
     "data": {
      "text/html": [
       "Find logs at: <code>../wandb_logs/wandb/run-20250907_180731-elqhxt92/logs</code>"
      ],
      "text/plain": [
       "<IPython.core.display.HTML object>"
      ]
     },
     "metadata": {},
     "output_type": "display_data"
    },
    {
     "name": "stderr",
     "output_type": "stream",
     "text": [
      "[I 2025-09-07 18:08:24,811] Trial 2 finished with value: 0.8810833333333333 and parameters: {'lr': 0.0005568737303925974, 'weight_decay': 1.527121367929225e-05, 'optimizer': 'Adam', 'momentum': 0.11395048150543823, 'out_channels': 16, 'kernel_size': 6}. Best is trial 1 with value: 0.8924166666666666.\n"
     ]
    },
    {
     "data": {
      "text/html": [
       "Waiting for wandb.init()..."
      ],
      "text/plain": [
       "<IPython.core.display.HTML object>"
      ]
     },
     "metadata": {},
     "output_type": "display_data"
    },
    {
     "data": {
      "text/html": [
       "Tracking run with wandb version 0.21.3"
      ],
      "text/plain": [
       "<IPython.core.display.HTML object>"
      ]
     },
     "metadata": {},
     "output_type": "display_data"
    },
    {
     "data": {
      "text/html": [
       "Run data is saved locally in <code>../wandb_logs/wandb/run-20250907_180824-2kbi8bvj</code>"
      ],
      "text/plain": [
       "<IPython.core.display.HTML object>"
      ]
     },
     "metadata": {},
     "output_type": "display_data"
    },
    {
     "data": {
      "text/html": [
       "Syncing run <strong><a href='https://wandb.ai/leon-windett-imperial-college-london/Fashion-MNIST-CNN_v1/runs/2kbi8bvj' target=\"_blank\">Simple_CNN_trial_3</a></strong> to <a href='https://wandb.ai/leon-windett-imperial-college-london/Fashion-MNIST-CNN_v1' target=\"_blank\">Weights & Biases</a> (<a href='https://wandb.me/developer-guide' target=\"_blank\">docs</a>)<br>"
      ],
      "text/plain": [
       "<IPython.core.display.HTML object>"
      ]
     },
     "metadata": {},
     "output_type": "display_data"
    },
    {
     "data": {
      "text/html": [
       " View project at <a href='https://wandb.ai/leon-windett-imperial-college-london/Fashion-MNIST-CNN_v1' target=\"_blank\">https://wandb.ai/leon-windett-imperial-college-london/Fashion-MNIST-CNN_v1</a>"
      ],
      "text/plain": [
       "<IPython.core.display.HTML object>"
      ]
     },
     "metadata": {},
     "output_type": "display_data"
    },
    {
     "data": {
      "text/html": [
       " View run at <a href='https://wandb.ai/leon-windett-imperial-college-london/Fashion-MNIST-CNN_v1/runs/2kbi8bvj' target=\"_blank\">https://wandb.ai/leon-windett-imperial-college-london/Fashion-MNIST-CNN_v1/runs/2kbi8bvj</a>"
      ],
      "text/plain": [
       "<IPython.core.display.HTML object>"
      ]
     },
     "metadata": {},
     "output_type": "display_data"
    },
    {
     "name": "stderr",
     "output_type": "stream",
     "text": [
      "                                                           \r"
     ]
    },
    {
     "name": "stdout",
     "output_type": "stream",
     "text": [
      "[Epoch  1] Training accuracy: 60.51%, Validation accuracy: 71.77%\n",
      "\n"
     ]
    },
    {
     "name": "stderr",
     "output_type": "stream",
     "text": [
      "                                                           \r"
     ]
    },
    {
     "name": "stdout",
     "output_type": "stream",
     "text": [
      "[Epoch  2] Training accuracy: 73.52%, Validation accuracy: 75.05%\n",
      "\n"
     ]
    },
    {
     "name": "stderr",
     "output_type": "stream",
     "text": [
      "                                                           \r"
     ]
    },
    {
     "name": "stdout",
     "output_type": "stream",
     "text": [
      "[Epoch  3] Training accuracy: 76.39%, Validation accuracy: 77.53%\n",
      "\n"
     ]
    },
    {
     "name": "stderr",
     "output_type": "stream",
     "text": [
      "                                                           \r"
     ]
    },
    {
     "name": "stdout",
     "output_type": "stream",
     "text": [
      "[Epoch  4] Training accuracy: 78.34%, Validation accuracy: 78.94%\n",
      "\n"
     ]
    },
    {
     "name": "stderr",
     "output_type": "stream",
     "text": [
      "                                                           \r"
     ]
    },
    {
     "name": "stdout",
     "output_type": "stream",
     "text": [
      "[Epoch  5] Training accuracy: 79.75%, Validation accuracy: 79.97%\n",
      "\n"
     ]
    },
    {
     "data": {
      "text/html": [],
      "text/plain": [
       "<IPython.core.display.HTML object>"
      ]
     },
     "metadata": {},
     "output_type": "display_data"
    },
    {
     "data": {
      "text/html": [
       "<br>    <style><br>        .wandb-row {<br>            display: flex;<br>            flex-direction: row;<br>            flex-wrap: wrap;<br>            justify-content: flex-start;<br>            width: 100%;<br>        }<br>        .wandb-col {<br>            display: flex;<br>            flex-direction: column;<br>            flex-basis: 100%;<br>            flex: 1;<br>            padding: 10px;<br>        }<br>    </style><br><div class=\"wandb-row\"><div class=\"wandb-col\"><h3>Run history:</h3><br/><table class=\"wandb\"><tr><td>train_loss</td><td>█▃▂▁▁</td></tr><tr><td>val_acc</td><td>▁▄▆▇█</td></tr><tr><td>val_loss</td><td>█▄▂▂▁</td></tr></table><br/></div><div class=\"wandb-col\"><h3>Run summary:</h3><br/><table class=\"wandb\"><tr><td>train_loss</td><td>0.00914</td></tr><tr><td>val_acc</td><td>0.79967</td></tr><tr><td>val_loss</td><td>0.00901</td></tr></table><br/></div></div>"
      ],
      "text/plain": [
       "<IPython.core.display.HTML object>"
      ]
     },
     "metadata": {},
     "output_type": "display_data"
    },
    {
     "data": {
      "text/html": [
       " View run <strong style=\"color:#cdcd00\">Simple_CNN_trial_3</strong> at: <a href='https://wandb.ai/leon-windett-imperial-college-london/Fashion-MNIST-CNN_v1/runs/2kbi8bvj' target=\"_blank\">https://wandb.ai/leon-windett-imperial-college-london/Fashion-MNIST-CNN_v1/runs/2kbi8bvj</a><br> View project at: <a href='https://wandb.ai/leon-windett-imperial-college-london/Fashion-MNIST-CNN_v1' target=\"_blank\">https://wandb.ai/leon-windett-imperial-college-london/Fashion-MNIST-CNN_v1</a><br>Synced 5 W&B file(s), 0 media file(s), 0 artifact file(s) and 0 other file(s)"
      ],
      "text/plain": [
       "<IPython.core.display.HTML object>"
      ]
     },
     "metadata": {},
     "output_type": "display_data"
    },
    {
     "data": {
      "text/html": [
       "Find logs at: <code>../wandb_logs/wandb/run-20250907_180824-2kbi8bvj/logs</code>"
      ],
      "text/plain": [
       "<IPython.core.display.HTML object>"
      ]
     },
     "metadata": {},
     "output_type": "display_data"
    },
    {
     "name": "stderr",
     "output_type": "stream",
     "text": [
      "[I 2025-09-07 18:09:13,209] Trial 3 finished with value: 0.7996666666666666 and parameters: {'lr': 3.7763322430276005e-05, 'weight_decay': 0.00012262253605982066, 'optimizer': 'AdamW', 'momentum': 0.47041885122827376, 'out_channels': 6, 'kernel_size': 3}. Best is trial 1 with value: 0.8924166666666666.\n"
     ]
    },
    {
     "data": {
      "text/html": [
       "Waiting for wandb.init()..."
      ],
      "text/plain": [
       "<IPython.core.display.HTML object>"
      ]
     },
     "metadata": {},
     "output_type": "display_data"
    },
    {
     "data": {
      "text/html": [
       "Tracking run with wandb version 0.21.3"
      ],
      "text/plain": [
       "<IPython.core.display.HTML object>"
      ]
     },
     "metadata": {},
     "output_type": "display_data"
    },
    {
     "data": {
      "text/html": [
       "Run data is saved locally in <code>../wandb_logs/wandb/run-20250907_180913-iveac437</code>"
      ],
      "text/plain": [
       "<IPython.core.display.HTML object>"
      ]
     },
     "metadata": {},
     "output_type": "display_data"
    },
    {
     "data": {
      "text/html": [
       "Syncing run <strong><a href='https://wandb.ai/leon-windett-imperial-college-london/Fashion-MNIST-CNN_v1/runs/iveac437' target=\"_blank\">Simple_CNN_trial_4</a></strong> to <a href='https://wandb.ai/leon-windett-imperial-college-london/Fashion-MNIST-CNN_v1' target=\"_blank\">Weights & Biases</a> (<a href='https://wandb.me/developer-guide' target=\"_blank\">docs</a>)<br>"
      ],
      "text/plain": [
       "<IPython.core.display.HTML object>"
      ]
     },
     "metadata": {},
     "output_type": "display_data"
    },
    {
     "data": {
      "text/html": [
       " View project at <a href='https://wandb.ai/leon-windett-imperial-college-london/Fashion-MNIST-CNN_v1' target=\"_blank\">https://wandb.ai/leon-windett-imperial-college-london/Fashion-MNIST-CNN_v1</a>"
      ],
      "text/plain": [
       "<IPython.core.display.HTML object>"
      ]
     },
     "metadata": {},
     "output_type": "display_data"
    },
    {
     "data": {
      "text/html": [
       " View run at <a href='https://wandb.ai/leon-windett-imperial-college-london/Fashion-MNIST-CNN_v1/runs/iveac437' target=\"_blank\">https://wandb.ai/leon-windett-imperial-college-london/Fashion-MNIST-CNN_v1/runs/iveac437</a>"
      ],
      "text/plain": [
       "<IPython.core.display.HTML object>"
      ]
     },
     "metadata": {},
     "output_type": "display_data"
    },
    {
     "name": "stderr",
     "output_type": "stream",
     "text": [
      "                                                           \r"
     ]
    },
    {
     "name": "stdout",
     "output_type": "stream",
     "text": [
      "[Epoch  1] Training accuracy: 82.79%, Validation accuracy: 85.80%\n",
      "\n"
     ]
    },
    {
     "name": "stderr",
     "output_type": "stream",
     "text": [
      "                                                           \r"
     ]
    },
    {
     "name": "stdout",
     "output_type": "stream",
     "text": [
      "[Epoch  2] Training accuracy: 86.86%, Validation accuracy: 86.92%\n",
      "\n"
     ]
    },
    {
     "name": "stderr",
     "output_type": "stream",
     "text": [
      "                                                           \r"
     ]
    },
    {
     "name": "stdout",
     "output_type": "stream",
     "text": [
      "[Epoch  3] Training accuracy: 87.89%, Validation accuracy: 87.22%\n",
      "\n"
     ]
    },
    {
     "name": "stderr",
     "output_type": "stream",
     "text": [
      "                                                           \r"
     ]
    },
    {
     "name": "stdout",
     "output_type": "stream",
     "text": [
      "[Epoch  4] Training accuracy: 88.49%, Validation accuracy: 87.22%\n",
      "\n"
     ]
    },
    {
     "name": "stderr",
     "output_type": "stream",
     "text": [
      "                                                          \r"
     ]
    },
    {
     "name": "stdout",
     "output_type": "stream",
     "text": [
      "[Epoch  5] Training accuracy: 89.14%, Validation accuracy: 87.77%\n",
      "\n"
     ]
    },
    {
     "data": {
      "text/html": [],
      "text/plain": [
       "<IPython.core.display.HTML object>"
      ]
     },
     "metadata": {},
     "output_type": "display_data"
    },
    {
     "data": {
      "text/html": [
       "<br>    <style><br>        .wandb-row {<br>            display: flex;<br>            flex-direction: row;<br>            flex-wrap: wrap;<br>            justify-content: flex-start;<br>            width: 100%;<br>        }<br>        .wandb-col {<br>            display: flex;<br>            flex-direction: column;<br>            flex-basis: 100%;<br>            flex: 1;<br>            padding: 10px;<br>        }<br>    </style><br><div class=\"wandb-row\"><div class=\"wandb-col\"><h3>Run history:</h3><br/><table class=\"wandb\"><tr><td>train_loss</td><td>█▄▂▂▁</td></tr><tr><td>val_acc</td><td>▁▅▆▆█</td></tr><tr><td>val_loss</td><td>█▅▃▃▁</td></tr></table><br/></div><div class=\"wandb-col\"><h3>Run summary:</h3><br/><table class=\"wandb\"><tr><td>train_loss</td><td>0.0048</td></tr><tr><td>val_acc</td><td>0.87767</td></tr><tr><td>val_loss</td><td>0.0054</td></tr></table><br/></div></div>"
      ],
      "text/plain": [
       "<IPython.core.display.HTML object>"
      ]
     },
     "metadata": {},
     "output_type": "display_data"
    },
    {
     "data": {
      "text/html": [
       " View run <strong style=\"color:#cdcd00\">Simple_CNN_trial_4</strong> at: <a href='https://wandb.ai/leon-windett-imperial-college-london/Fashion-MNIST-CNN_v1/runs/iveac437' target=\"_blank\">https://wandb.ai/leon-windett-imperial-college-london/Fashion-MNIST-CNN_v1/runs/iveac437</a><br> View project at: <a href='https://wandb.ai/leon-windett-imperial-college-london/Fashion-MNIST-CNN_v1' target=\"_blank\">https://wandb.ai/leon-windett-imperial-college-london/Fashion-MNIST-CNN_v1</a><br>Synced 5 W&B file(s), 0 media file(s), 0 artifact file(s) and 0 other file(s)"
      ],
      "text/plain": [
       "<IPython.core.display.HTML object>"
      ]
     },
     "metadata": {},
     "output_type": "display_data"
    },
    {
     "data": {
      "text/html": [
       "Find logs at: <code>../wandb_logs/wandb/run-20250907_180913-iveac437/logs</code>"
      ],
      "text/plain": [
       "<IPython.core.display.HTML object>"
      ]
     },
     "metadata": {},
     "output_type": "display_data"
    },
    {
     "name": "stderr",
     "output_type": "stream",
     "text": [
      "[I 2025-09-07 18:10:24,611] Trial 4 finished with value: 0.8776666666666667 and parameters: {'lr': 0.003712810758445032, 'weight_decay': 0.0006769286092385607, 'optimizer': 'AdamW', 'momentum': 0.005786765988812515, 'out_channels': 5, 'kernel_size': 4}. Best is trial 1 with value: 0.8924166666666666.\n"
     ]
    },
    {
     "data": {
      "text/html": [
       "Waiting for wandb.init()..."
      ],
      "text/plain": [
       "<IPython.core.display.HTML object>"
      ]
     },
     "metadata": {},
     "output_type": "display_data"
    },
    {
     "data": {
      "text/html": [
       "Tracking run with wandb version 0.21.3"
      ],
      "text/plain": [
       "<IPython.core.display.HTML object>"
      ]
     },
     "metadata": {},
     "output_type": "display_data"
    },
    {
     "data": {
      "text/html": [
       "Run data is saved locally in <code>../wandb_logs/wandb/run-20250907_181024-t1l7bwbx</code>"
      ],
      "text/plain": [
       "<IPython.core.display.HTML object>"
      ]
     },
     "metadata": {},
     "output_type": "display_data"
    },
    {
     "data": {
      "text/html": [
       "Syncing run <strong><a href='https://wandb.ai/leon-windett-imperial-college-london/Fashion-MNIST-CNN_v1/runs/t1l7bwbx' target=\"_blank\">Simple_CNN_trial_5</a></strong> to <a href='https://wandb.ai/leon-windett-imperial-college-london/Fashion-MNIST-CNN_v1' target=\"_blank\">Weights & Biases</a> (<a href='https://wandb.me/developer-guide' target=\"_blank\">docs</a>)<br>"
      ],
      "text/plain": [
       "<IPython.core.display.HTML object>"
      ]
     },
     "metadata": {},
     "output_type": "display_data"
    },
    {
     "data": {
      "text/html": [
       " View project at <a href='https://wandb.ai/leon-windett-imperial-college-london/Fashion-MNIST-CNN_v1' target=\"_blank\">https://wandb.ai/leon-windett-imperial-college-london/Fashion-MNIST-CNN_v1</a>"
      ],
      "text/plain": [
       "<IPython.core.display.HTML object>"
      ]
     },
     "metadata": {},
     "output_type": "display_data"
    },
    {
     "data": {
      "text/html": [
       " View run at <a href='https://wandb.ai/leon-windett-imperial-college-london/Fashion-MNIST-CNN_v1/runs/t1l7bwbx' target=\"_blank\">https://wandb.ai/leon-windett-imperial-college-london/Fashion-MNIST-CNN_v1/runs/t1l7bwbx</a>"
      ],
      "text/plain": [
       "<IPython.core.display.HTML object>"
      ]
     },
     "metadata": {},
     "output_type": "display_data"
    },
    {
     "name": "stderr",
     "output_type": "stream",
     "text": [
      "                                                          \r"
     ]
    },
    {
     "name": "stdout",
     "output_type": "stream",
     "text": [
      "[Epoch  1] Training accuracy: 83.80%, Validation accuracy: 86.16%\n",
      "\n"
     ]
    },
    {
     "name": "stderr",
     "output_type": "stream",
     "text": [
      "                                                          \r"
     ]
    },
    {
     "name": "stdout",
     "output_type": "stream",
     "text": [
      "[Epoch  2] Training accuracy: 88.16%, Validation accuracy: 87.68%\n",
      "\n"
     ]
    },
    {
     "name": "stderr",
     "output_type": "stream",
     "text": [
      "                                                          \r"
     ]
    },
    {
     "name": "stdout",
     "output_type": "stream",
     "text": [
      "[Epoch  3] Training accuracy: 89.26%, Validation accuracy: 88.51%\n",
      "\n"
     ]
    },
    {
     "name": "stderr",
     "output_type": "stream",
     "text": [
      "                                                          \r"
     ]
    },
    {
     "name": "stdout",
     "output_type": "stream",
     "text": [
      "[Epoch  4] Training accuracy: 89.95%, Validation accuracy: 89.36%\n",
      "\n"
     ]
    },
    {
     "name": "stderr",
     "output_type": "stream",
     "text": [
      "                                                          \r"
     ]
    },
    {
     "name": "stdout",
     "output_type": "stream",
     "text": [
      "[Epoch  5] Training accuracy: 90.63%, Validation accuracy: 88.52%\n",
      "\n"
     ]
    },
    {
     "data": {
      "text/html": [],
      "text/plain": [
       "<IPython.core.display.HTML object>"
      ]
     },
     "metadata": {},
     "output_type": "display_data"
    },
    {
     "data": {
      "text/html": [
       "<br>    <style><br>        .wandb-row {<br>            display: flex;<br>            flex-direction: row;<br>            flex-wrap: wrap;<br>            justify-content: flex-start;<br>            width: 100%;<br>        }<br>        .wandb-col {<br>            display: flex;<br>            flex-direction: column;<br>            flex-basis: 100%;<br>            flex: 1;<br>            padding: 10px;<br>        }<br>    </style><br><div class=\"wandb-row\"><div class=\"wandb-col\"><h3>Run history:</h3><br/><table class=\"wandb\"><tr><td>train_loss</td><td>█▄▂▂▁</td></tr><tr><td>val_acc</td><td>▁▄▆█▆</td></tr><tr><td>val_loss</td><td>█▄▃▁▃</td></tr></table><br/></div><div class=\"wandb-col\"><h3>Run summary:</h3><br/><table class=\"wandb\"><tr><td>train_loss</td><td>0.00409</td></tr><tr><td>val_acc</td><td>0.88525</td></tr><tr><td>val_loss</td><td>0.00526</td></tr></table><br/></div></div>"
      ],
      "text/plain": [
       "<IPython.core.display.HTML object>"
      ]
     },
     "metadata": {},
     "output_type": "display_data"
    },
    {
     "data": {
      "text/html": [
       " View run <strong style=\"color:#cdcd00\">Simple_CNN_trial_5</strong> at: <a href='https://wandb.ai/leon-windett-imperial-college-london/Fashion-MNIST-CNN_v1/runs/t1l7bwbx' target=\"_blank\">https://wandb.ai/leon-windett-imperial-college-london/Fashion-MNIST-CNN_v1/runs/t1l7bwbx</a><br> View project at: <a href='https://wandb.ai/leon-windett-imperial-college-london/Fashion-MNIST-CNN_v1' target=\"_blank\">https://wandb.ai/leon-windett-imperial-college-london/Fashion-MNIST-CNN_v1</a><br>Synced 5 W&B file(s), 0 media file(s), 0 artifact file(s) and 0 other file(s)"
      ],
      "text/plain": [
       "<IPython.core.display.HTML object>"
      ]
     },
     "metadata": {},
     "output_type": "display_data"
    },
    {
     "data": {
      "text/html": [
       "Find logs at: <code>../wandb_logs/wandb/run-20250907_181024-t1l7bwbx/logs</code>"
      ],
      "text/plain": [
       "<IPython.core.display.HTML object>"
      ]
     },
     "metadata": {},
     "output_type": "display_data"
    },
    {
     "name": "stderr",
     "output_type": "stream",
     "text": [
      "[I 2025-09-07 18:11:19,808] Trial 5 finished with value: 0.88525 and parameters: {'lr': 0.0016420662799158335, 'weight_decay': 0.004947063495708505, 'optimizer': 'AdamW', 'momentum': 0.20019474042244573, 'out_channels': 15, 'kernel_size': 7}. Best is trial 1 with value: 0.8924166666666666.\n"
     ]
    },
    {
     "data": {
      "text/html": [
       "Waiting for wandb.init()..."
      ],
      "text/plain": [
       "<IPython.core.display.HTML object>"
      ]
     },
     "metadata": {},
     "output_type": "display_data"
    },
    {
     "data": {
      "text/html": [
       "Tracking run with wandb version 0.21.3"
      ],
      "text/plain": [
       "<IPython.core.display.HTML object>"
      ]
     },
     "metadata": {},
     "output_type": "display_data"
    },
    {
     "data": {
      "text/html": [
       "Run data is saved locally in <code>../wandb_logs/wandb/run-20250907_181119-hfbhsh3c</code>"
      ],
      "text/plain": [
       "<IPython.core.display.HTML object>"
      ]
     },
     "metadata": {},
     "output_type": "display_data"
    },
    {
     "data": {
      "text/html": [
       "Syncing run <strong><a href='https://wandb.ai/leon-windett-imperial-college-london/Fashion-MNIST-CNN_v1/runs/hfbhsh3c' target=\"_blank\">Simple_CNN_trial_6</a></strong> to <a href='https://wandb.ai/leon-windett-imperial-college-london/Fashion-MNIST-CNN_v1' target=\"_blank\">Weights & Biases</a> (<a href='https://wandb.me/developer-guide' target=\"_blank\">docs</a>)<br>"
      ],
      "text/plain": [
       "<IPython.core.display.HTML object>"
      ]
     },
     "metadata": {},
     "output_type": "display_data"
    },
    {
     "data": {
      "text/html": [
       " View project at <a href='https://wandb.ai/leon-windett-imperial-college-london/Fashion-MNIST-CNN_v1' target=\"_blank\">https://wandb.ai/leon-windett-imperial-college-london/Fashion-MNIST-CNN_v1</a>"
      ],
      "text/plain": [
       "<IPython.core.display.HTML object>"
      ]
     },
     "metadata": {},
     "output_type": "display_data"
    },
    {
     "data": {
      "text/html": [
       " View run at <a href='https://wandb.ai/leon-windett-imperial-college-london/Fashion-MNIST-CNN_v1/runs/hfbhsh3c' target=\"_blank\">https://wandb.ai/leon-windett-imperial-college-london/Fashion-MNIST-CNN_v1/runs/hfbhsh3c</a>"
      ],
      "text/plain": [
       "<IPython.core.display.HTML object>"
      ]
     },
     "metadata": {},
     "output_type": "display_data"
    },
    {
     "name": "stderr",
     "output_type": "stream",
     "text": [
      "                                                          \r"
     ]
    },
    {
     "name": "stdout",
     "output_type": "stream",
     "text": [
      "[Epoch  1] Training accuracy: 80.45%, Validation accuracy: 84.14%\n",
      "\n"
     ]
    },
    {
     "name": "stderr",
     "output_type": "stream",
     "text": [
      "                                                           \r"
     ]
    },
    {
     "name": "stdout",
     "output_type": "stream",
     "text": [
      "[Epoch  2] Training accuracy: 86.14%, Validation accuracy: 86.37%\n",
      "\n"
     ]
    },
    {
     "name": "stderr",
     "output_type": "stream",
     "text": [
      "                                                           \r"
     ]
    },
    {
     "name": "stdout",
     "output_type": "stream",
     "text": [
      "[Epoch  3] Training accuracy: 87.27%, Validation accuracy: 87.06%\n",
      "\n"
     ]
    },
    {
     "name": "stderr",
     "output_type": "stream",
     "text": [
      "                                                          \r"
     ]
    },
    {
     "name": "stdout",
     "output_type": "stream",
     "text": [
      "[Epoch  4] Training accuracy: 88.06%, Validation accuracy: 87.88%\n",
      "\n"
     ]
    },
    {
     "name": "stderr",
     "output_type": "stream",
     "text": [
      "                                                           \r"
     ]
    },
    {
     "name": "stdout",
     "output_type": "stream",
     "text": [
      "[Epoch  5] Training accuracy: 88.59%, Validation accuracy: 87.83%\n",
      "\n"
     ]
    },
    {
     "data": {
      "text/html": [],
      "text/plain": [
       "<IPython.core.display.HTML object>"
      ]
     },
     "metadata": {},
     "output_type": "display_data"
    },
    {
     "data": {
      "text/html": [
       "<br>    <style><br>        .wandb-row {<br>            display: flex;<br>            flex-direction: row;<br>            flex-wrap: wrap;<br>            justify-content: flex-start;<br>            width: 100%;<br>        }<br>        .wandb-col {<br>            display: flex;<br>            flex-direction: column;<br>            flex-basis: 100%;<br>            flex: 1;<br>            padding: 10px;<br>        }<br>    </style><br><div class=\"wandb-row\"><div class=\"wandb-col\"><h3>Run history:</h3><br/><table class=\"wandb\"><tr><td>train_loss</td><td>█▃▂▁▁</td></tr><tr><td>val_acc</td><td>▁▅▆██</td></tr><tr><td>val_loss</td><td>█▄▃▁▁</td></tr></table><br/></div><div class=\"wandb-col\"><h3>Run summary:</h3><br/><table class=\"wandb\"><tr><td>train_loss</td><td>0.00509</td></tr><tr><td>val_acc</td><td>0.87833</td></tr><tr><td>val_loss</td><td>0.00542</td></tr></table><br/></div></div>"
      ],
      "text/plain": [
       "<IPython.core.display.HTML object>"
      ]
     },
     "metadata": {},
     "output_type": "display_data"
    },
    {
     "data": {
      "text/html": [
       " View run <strong style=\"color:#cdcd00\">Simple_CNN_trial_6</strong> at: <a href='https://wandb.ai/leon-windett-imperial-college-london/Fashion-MNIST-CNN_v1/runs/hfbhsh3c' target=\"_blank\">https://wandb.ai/leon-windett-imperial-college-london/Fashion-MNIST-CNN_v1/runs/hfbhsh3c</a><br> View project at: <a href='https://wandb.ai/leon-windett-imperial-college-london/Fashion-MNIST-CNN_v1' target=\"_blank\">https://wandb.ai/leon-windett-imperial-college-london/Fashion-MNIST-CNN_v1</a><br>Synced 5 W&B file(s), 0 media file(s), 0 artifact file(s) and 0 other file(s)"
      ],
      "text/plain": [
       "<IPython.core.display.HTML object>"
      ]
     },
     "metadata": {},
     "output_type": "display_data"
    },
    {
     "data": {
      "text/html": [
       "Find logs at: <code>../wandb_logs/wandb/run-20250907_181119-hfbhsh3c/logs</code>"
      ],
      "text/plain": [
       "<IPython.core.display.HTML object>"
      ]
     },
     "metadata": {},
     "output_type": "display_data"
    },
    {
     "name": "stderr",
     "output_type": "stream",
     "text": [
      "[I 2025-09-07 18:12:18,511] Trial 6 finished with value: 0.8783333333333333 and parameters: {'lr': 0.0005355353413155387, 'weight_decay': 0.002775578363412747, 'optimizer': 'Adam', 'momentum': 0.3048621348581589, 'out_channels': 14, 'kernel_size': 4}. Best is trial 1 with value: 0.8924166666666666.\n"
     ]
    },
    {
     "data": {
      "text/html": [
       "creating run (0.3s)"
      ],
      "text/plain": [
       "<IPython.core.display.HTML object>"
      ]
     },
     "metadata": {},
     "output_type": "display_data"
    },
    {
     "data": {
      "text/html": [
       "Tracking run with wandb version 0.21.3"
      ],
      "text/plain": [
       "<IPython.core.display.HTML object>"
      ]
     },
     "metadata": {},
     "output_type": "display_data"
    },
    {
     "data": {
      "text/html": [
       "Run data is saved locally in <code>../wandb_logs/wandb/run-20250907_181218-nb0qotgd</code>"
      ],
      "text/plain": [
       "<IPython.core.display.HTML object>"
      ]
     },
     "metadata": {},
     "output_type": "display_data"
    },
    {
     "data": {
      "text/html": [
       "Syncing run <strong><a href='https://wandb.ai/leon-windett-imperial-college-london/Fashion-MNIST-CNN_v1/runs/nb0qotgd' target=\"_blank\">Simple_CNN_trial_7</a></strong> to <a href='https://wandb.ai/leon-windett-imperial-college-london/Fashion-MNIST-CNN_v1' target=\"_blank\">Weights & Biases</a> (<a href='https://wandb.me/developer-guide' target=\"_blank\">docs</a>)<br>"
      ],
      "text/plain": [
       "<IPython.core.display.HTML object>"
      ]
     },
     "metadata": {},
     "output_type": "display_data"
    },
    {
     "data": {
      "text/html": [
       " View project at <a href='https://wandb.ai/leon-windett-imperial-college-london/Fashion-MNIST-CNN_v1' target=\"_blank\">https://wandb.ai/leon-windett-imperial-college-london/Fashion-MNIST-CNN_v1</a>"
      ],
      "text/plain": [
       "<IPython.core.display.HTML object>"
      ]
     },
     "metadata": {},
     "output_type": "display_data"
    },
    {
     "data": {
      "text/html": [
       " View run at <a href='https://wandb.ai/leon-windett-imperial-college-london/Fashion-MNIST-CNN_v1/runs/nb0qotgd' target=\"_blank\">https://wandb.ai/leon-windett-imperial-college-london/Fashion-MNIST-CNN_v1/runs/nb0qotgd</a>"
      ],
      "text/plain": [
       "<IPython.core.display.HTML object>"
      ]
     },
     "metadata": {},
     "output_type": "display_data"
    },
    {
     "name": "stderr",
     "output_type": "stream",
     "text": [
      "                                                           \r"
     ]
    },
    {
     "name": "stdout",
     "output_type": "stream",
     "text": [
      "[Epoch  1] Training accuracy: 83.67%, Validation accuracy: 86.62%\n",
      "\n"
     ]
    },
    {
     "name": "stderr",
     "output_type": "stream",
     "text": [
      "                                                           \r"
     ]
    },
    {
     "name": "stdout",
     "output_type": "stream",
     "text": [
      "[Epoch  2] Training accuracy: 87.57%, Validation accuracy: 86.26%\n",
      "\n"
     ]
    },
    {
     "name": "stderr",
     "output_type": "stream",
     "text": [
      "                                                           \r"
     ]
    },
    {
     "name": "stdout",
     "output_type": "stream",
     "text": [
      "[Epoch  3] Training accuracy: 88.42%, Validation accuracy: 87.79%\n",
      "\n"
     ]
    },
    {
     "name": "stderr",
     "output_type": "stream",
     "text": [
      "                                                           \r"
     ]
    },
    {
     "name": "stdout",
     "output_type": "stream",
     "text": [
      "[Epoch  4] Training accuracy: 89.00%, Validation accuracy: 87.48%\n",
      "\n"
     ]
    },
    {
     "name": "stderr",
     "output_type": "stream",
     "text": [
      "                                                          \r"
     ]
    },
    {
     "name": "stdout",
     "output_type": "stream",
     "text": [
      "[Epoch  5] Training accuracy: 89.56%, Validation accuracy: 88.08%\n",
      "\n"
     ]
    },
    {
     "data": {
      "text/html": [],
      "text/plain": [
       "<IPython.core.display.HTML object>"
      ]
     },
     "metadata": {},
     "output_type": "display_data"
    },
    {
     "data": {
      "text/html": [
       "<br>    <style><br>        .wandb-row {<br>            display: flex;<br>            flex-direction: row;<br>            flex-wrap: wrap;<br>            justify-content: flex-start;<br>            width: 100%;<br>        }<br>        .wandb-col {<br>            display: flex;<br>            flex-direction: column;<br>            flex-basis: 100%;<br>            flex: 1;<br>            padding: 10px;<br>        }<br>    </style><br><div class=\"wandb-row\"><div class=\"wandb-col\"><h3>Run history:</h3><br/><table class=\"wandb\"><tr><td>train_loss</td><td>█▄▂▂▁</td></tr><tr><td>val_acc</td><td>▂▁▇▆█</td></tr><tr><td>val_loss</td><td>▆█▂▃▁</td></tr></table><br/></div><div class=\"wandb-col\"><h3>Run summary:</h3><br/><table class=\"wandb\"><tr><td>train_loss</td><td>0.00451</td></tr><tr><td>val_acc</td><td>0.88075</td></tr><tr><td>val_loss</td><td>0.00534</td></tr></table><br/></div></div>"
      ],
      "text/plain": [
       "<IPython.core.display.HTML object>"
      ]
     },
     "metadata": {},
     "output_type": "display_data"
    },
    {
     "data": {
      "text/html": [
       " View run <strong style=\"color:#cdcd00\">Simple_CNN_trial_7</strong> at: <a href='https://wandb.ai/leon-windett-imperial-college-london/Fashion-MNIST-CNN_v1/runs/nb0qotgd' target=\"_blank\">https://wandb.ai/leon-windett-imperial-college-london/Fashion-MNIST-CNN_v1/runs/nb0qotgd</a><br> View project at: <a href='https://wandb.ai/leon-windett-imperial-college-london/Fashion-MNIST-CNN_v1' target=\"_blank\">https://wandb.ai/leon-windett-imperial-college-london/Fashion-MNIST-CNN_v1</a><br>Synced 5 W&B file(s), 0 media file(s), 0 artifact file(s) and 0 other file(s)"
      ],
      "text/plain": [
       "<IPython.core.display.HTML object>"
      ]
     },
     "metadata": {},
     "output_type": "display_data"
    },
    {
     "data": {
      "text/html": [
       "Find logs at: <code>../wandb_logs/wandb/run-20250907_181218-nb0qotgd/logs</code>"
      ],
      "text/plain": [
       "<IPython.core.display.HTML object>"
      ]
     },
     "metadata": {},
     "output_type": "display_data"
    },
    {
     "name": "stderr",
     "output_type": "stream",
     "text": [
      "[I 2025-09-07 18:13:30,194] Trial 7 finished with value: 0.88075 and parameters: {'lr': 0.003909157049443814, 'weight_decay': 2.5816581576743417e-05, 'optimizer': 'AdamW', 'momentum': 0.04479603069220378, 'out_channels': 8, 'kernel_size': 7}. Best is trial 1 with value: 0.8924166666666666.\n"
     ]
    },
    {
     "data": {
      "text/html": [
       "Waiting for wandb.init()..."
      ],
      "text/plain": [
       "<IPython.core.display.HTML object>"
      ]
     },
     "metadata": {},
     "output_type": "display_data"
    },
    {
     "data": {
      "text/html": [
       "Tracking run with wandb version 0.21.3"
      ],
      "text/plain": [
       "<IPython.core.display.HTML object>"
      ]
     },
     "metadata": {},
     "output_type": "display_data"
    },
    {
     "data": {
      "text/html": [
       "Run data is saved locally in <code>../wandb_logs/wandb/run-20250907_181330-qs8swwhr</code>"
      ],
      "text/plain": [
       "<IPython.core.display.HTML object>"
      ]
     },
     "metadata": {},
     "output_type": "display_data"
    },
    {
     "data": {
      "text/html": [
       "Syncing run <strong><a href='https://wandb.ai/leon-windett-imperial-college-london/Fashion-MNIST-CNN_v1/runs/qs8swwhr' target=\"_blank\">Simple_CNN_trial_8</a></strong> to <a href='https://wandb.ai/leon-windett-imperial-college-london/Fashion-MNIST-CNN_v1' target=\"_blank\">Weights & Biases</a> (<a href='https://wandb.me/developer-guide' target=\"_blank\">docs</a>)<br>"
      ],
      "text/plain": [
       "<IPython.core.display.HTML object>"
      ]
     },
     "metadata": {},
     "output_type": "display_data"
    },
    {
     "data": {
      "text/html": [
       " View project at <a href='https://wandb.ai/leon-windett-imperial-college-london/Fashion-MNIST-CNN_v1' target=\"_blank\">https://wandb.ai/leon-windett-imperial-college-london/Fashion-MNIST-CNN_v1</a>"
      ],
      "text/plain": [
       "<IPython.core.display.HTML object>"
      ]
     },
     "metadata": {},
     "output_type": "display_data"
    },
    {
     "data": {
      "text/html": [
       " View run at <a href='https://wandb.ai/leon-windett-imperial-college-london/Fashion-MNIST-CNN_v1/runs/qs8swwhr' target=\"_blank\">https://wandb.ai/leon-windett-imperial-college-london/Fashion-MNIST-CNN_v1/runs/qs8swwhr</a>"
      ],
      "text/plain": [
       "<IPython.core.display.HTML object>"
      ]
     },
     "metadata": {},
     "output_type": "display_data"
    },
    {
     "name": "stderr",
     "output_type": "stream",
     "text": [
      "                                                           \r"
     ]
    },
    {
     "name": "stdout",
     "output_type": "stream",
     "text": [
      "[Epoch  1] Training accuracy: 21.71%, Validation accuracy: 23.47%\n",
      "\n"
     ]
    },
    {
     "name": "stderr",
     "output_type": "stream",
     "text": [
      "                                                           \r"
     ]
    },
    {
     "name": "stdout",
     "output_type": "stream",
     "text": [
      "[Epoch  2] Training accuracy: 24.93%, Validation accuracy: 25.82%\n",
      "\n"
     ]
    },
    {
     "name": "stderr",
     "output_type": "stream",
     "text": [
      "                                                          \r"
     ]
    },
    {
     "name": "stdout",
     "output_type": "stream",
     "text": [
      "[Epoch  3] Training accuracy: 26.87%, Validation accuracy: 27.77%\n",
      "\n"
     ]
    },
    {
     "name": "stderr",
     "output_type": "stream",
     "text": [
      "                                                           \r"
     ]
    },
    {
     "name": "stdout",
     "output_type": "stream",
     "text": [
      "[Epoch  4] Training accuracy: 29.20%, Validation accuracy: 29.95%\n",
      "\n"
     ]
    },
    {
     "name": "stderr",
     "output_type": "stream",
     "text": [
      "                                                           \r"
     ]
    },
    {
     "name": "stdout",
     "output_type": "stream",
     "text": [
      "[Epoch  5] Training accuracy: 31.93%, Validation accuracy: 32.79%\n",
      "\n"
     ]
    },
    {
     "data": {
      "text/html": [],
      "text/plain": [
       "<IPython.core.display.HTML object>"
      ]
     },
     "metadata": {},
     "output_type": "display_data"
    },
    {
     "data": {
      "text/html": [
       "<br>    <style><br>        .wandb-row {<br>            display: flex;<br>            flex-direction: row;<br>            flex-wrap: wrap;<br>            justify-content: flex-start;<br>            width: 100%;<br>        }<br>        .wandb-col {<br>            display: flex;<br>            flex-direction: column;<br>            flex-basis: 100%;<br>            flex: 1;<br>            padding: 10px;<br>        }<br>    </style><br><div class=\"wandb-row\"><div class=\"wandb-col\"><h3>Run history:</h3><br/><table class=\"wandb\"><tr><td>train_loss</td><td>█▆▄▃▁</td></tr><tr><td>val_acc</td><td>▁▃▄▆█</td></tr><tr><td>val_loss</td><td>█▆▄▃▁</td></tr></table><br/></div><div class=\"wandb-col\"><h3>Run summary:</h3><br/><table class=\"wandb\"><tr><td>train_loss</td><td>0.0335</td></tr><tr><td>val_acc</td><td>0.32792</td></tr><tr><td>val_loss</td><td>0.03335</td></tr></table><br/></div></div>"
      ],
      "text/plain": [
       "<IPython.core.display.HTML object>"
      ]
     },
     "metadata": {},
     "output_type": "display_data"
    },
    {
     "data": {
      "text/html": [
       " View run <strong style=\"color:#cdcd00\">Simple_CNN_trial_8</strong> at: <a href='https://wandb.ai/leon-windett-imperial-college-london/Fashion-MNIST-CNN_v1/runs/qs8swwhr' target=\"_blank\">https://wandb.ai/leon-windett-imperial-college-london/Fashion-MNIST-CNN_v1/runs/qs8swwhr</a><br> View project at: <a href='https://wandb.ai/leon-windett-imperial-college-london/Fashion-MNIST-CNN_v1' target=\"_blank\">https://wandb.ai/leon-windett-imperial-college-london/Fashion-MNIST-CNN_v1</a><br>Synced 5 W&B file(s), 0 media file(s), 0 artifact file(s) and 0 other file(s)"
      ],
      "text/plain": [
       "<IPython.core.display.HTML object>"
      ]
     },
     "metadata": {},
     "output_type": "display_data"
    },
    {
     "data": {
      "text/html": [
       "Find logs at: <code>../wandb_logs/wandb/run-20250907_181330-qs8swwhr/logs</code>"
      ],
      "text/plain": [
       "<IPython.core.display.HTML object>"
      ]
     },
     "metadata": {},
     "output_type": "display_data"
    },
    {
     "name": "stderr",
     "output_type": "stream",
     "text": [
      "[I 2025-09-07 18:14:28,069] Trial 8 finished with value: 0.3279166666666667 and parameters: {'lr': 1.1333245691791556e-05, 'weight_decay': 4.939820800148656e-05, 'optimizer': 'SGD', 'momentum': 0.34762933220111014, 'out_channels': 11, 'kernel_size': 3}. Best is trial 1 with value: 0.8924166666666666.\n"
     ]
    },
    {
     "data": {
      "text/html": [
       "Waiting for wandb.init()..."
      ],
      "text/plain": [
       "<IPython.core.display.HTML object>"
      ]
     },
     "metadata": {},
     "output_type": "display_data"
    },
    {
     "data": {
      "text/html": [
       "Tracking run with wandb version 0.21.3"
      ],
      "text/plain": [
       "<IPython.core.display.HTML object>"
      ]
     },
     "metadata": {},
     "output_type": "display_data"
    },
    {
     "data": {
      "text/html": [
       "Run data is saved locally in <code>../wandb_logs/wandb/run-20250907_181428-9ny48x62</code>"
      ],
      "text/plain": [
       "<IPython.core.display.HTML object>"
      ]
     },
     "metadata": {},
     "output_type": "display_data"
    },
    {
     "data": {
      "text/html": [
       "Syncing run <strong><a href='https://wandb.ai/leon-windett-imperial-college-london/Fashion-MNIST-CNN_v1/runs/9ny48x62' target=\"_blank\">Simple_CNN_trial_9</a></strong> to <a href='https://wandb.ai/leon-windett-imperial-college-london/Fashion-MNIST-CNN_v1' target=\"_blank\">Weights & Biases</a> (<a href='https://wandb.me/developer-guide' target=\"_blank\">docs</a>)<br>"
      ],
      "text/plain": [
       "<IPython.core.display.HTML object>"
      ]
     },
     "metadata": {},
     "output_type": "display_data"
    },
    {
     "data": {
      "text/html": [
       " View project at <a href='https://wandb.ai/leon-windett-imperial-college-london/Fashion-MNIST-CNN_v1' target=\"_blank\">https://wandb.ai/leon-windett-imperial-college-london/Fashion-MNIST-CNN_v1</a>"
      ],
      "text/plain": [
       "<IPython.core.display.HTML object>"
      ]
     },
     "metadata": {},
     "output_type": "display_data"
    },
    {
     "data": {
      "text/html": [
       " View run at <a href='https://wandb.ai/leon-windett-imperial-college-london/Fashion-MNIST-CNN_v1/runs/9ny48x62' target=\"_blank\">https://wandb.ai/leon-windett-imperial-college-london/Fashion-MNIST-CNN_v1/runs/9ny48x62</a>"
      ],
      "text/plain": [
       "<IPython.core.display.HTML object>"
      ]
     },
     "metadata": {},
     "output_type": "display_data"
    },
    {
     "name": "stderr",
     "output_type": "stream",
     "text": [
      "                                                          \r"
     ]
    },
    {
     "name": "stdout",
     "output_type": "stream",
     "text": [
      "[Epoch  1] Training accuracy: 84.16%, Validation accuracy: 86.09%\n",
      "\n"
     ]
    },
    {
     "name": "stderr",
     "output_type": "stream",
     "text": [
      "                                                           \r"
     ]
    },
    {
     "name": "stdout",
     "output_type": "stream",
     "text": [
      "[Epoch  2] Training accuracy: 87.69%, Validation accuracy: 87.28%\n",
      "\n"
     ]
    },
    {
     "name": "stderr",
     "output_type": "stream",
     "text": [
      "                                                           \r"
     ]
    },
    {
     "name": "stdout",
     "output_type": "stream",
     "text": [
      "[Epoch  3] Training accuracy: 88.40%, Validation accuracy: 88.80%\n",
      "\n"
     ]
    },
    {
     "name": "stderr",
     "output_type": "stream",
     "text": [
      "                                                           \r"
     ]
    },
    {
     "name": "stdout",
     "output_type": "stream",
     "text": [
      "[Epoch  4] Training accuracy: 88.65%, Validation accuracy: 88.09%\n",
      "\n"
     ]
    },
    {
     "name": "stderr",
     "output_type": "stream",
     "text": [
      "                                                          \r"
     ]
    },
    {
     "name": "stdout",
     "output_type": "stream",
     "text": [
      "[Epoch  5] Training accuracy: 88.81%, Validation accuracy: 87.38%\n",
      "\n"
     ]
    },
    {
     "data": {
      "text/html": [],
      "text/plain": [
       "<IPython.core.display.HTML object>"
      ]
     },
     "metadata": {},
     "output_type": "display_data"
    },
    {
     "data": {
      "text/html": [
       "<br>    <style><br>        .wandb-row {<br>            display: flex;<br>            flex-direction: row;<br>            flex-wrap: wrap;<br>            justify-content: flex-start;<br>            width: 100%;<br>        }<br>        .wandb-col {<br>            display: flex;<br>            flex-direction: column;<br>            flex-basis: 100%;<br>            flex: 1;<br>            padding: 10px;<br>        }<br>    </style><br><div class=\"wandb-row\"><div class=\"wandb-col\"><h3>Run history:</h3><br/><table class=\"wandb\"><tr><td>train_loss</td><td>█▃▂▁▁</td></tr><tr><td>val_acc</td><td>▁▄█▆▄</td></tr><tr><td>val_loss</td><td>█▄▁▃▄</td></tr></table><br/></div><div class=\"wandb-col\"><h3>Run summary:</h3><br/><table class=\"wandb\"><tr><td>train_loss</td><td>0.00496</td></tr><tr><td>val_acc</td><td>0.87375</td></tr><tr><td>val_loss</td><td>0.0055</td></tr></table><br/></div></div>"
      ],
      "text/plain": [
       "<IPython.core.display.HTML object>"
      ]
     },
     "metadata": {},
     "output_type": "display_data"
    },
    {
     "data": {
      "text/html": [
       " View run <strong style=\"color:#cdcd00\">Simple_CNN_trial_9</strong> at: <a href='https://wandb.ai/leon-windett-imperial-college-london/Fashion-MNIST-CNN_v1/runs/9ny48x62' target=\"_blank\">https://wandb.ai/leon-windett-imperial-college-london/Fashion-MNIST-CNN_v1/runs/9ny48x62</a><br> View project at: <a href='https://wandb.ai/leon-windett-imperial-college-london/Fashion-MNIST-CNN_v1' target=\"_blank\">https://wandb.ai/leon-windett-imperial-college-london/Fashion-MNIST-CNN_v1</a><br>Synced 5 W&B file(s), 0 media file(s), 0 artifact file(s) and 0 other file(s)"
      ],
      "text/plain": [
       "<IPython.core.display.HTML object>"
      ]
     },
     "metadata": {},
     "output_type": "display_data"
    },
    {
     "data": {
      "text/html": [
       "Find logs at: <code>../wandb_logs/wandb/run-20250907_181428-9ny48x62/logs</code>"
      ],
      "text/plain": [
       "<IPython.core.display.HTML object>"
      ]
     },
     "metadata": {},
     "output_type": "display_data"
    },
    {
     "name": "stderr",
     "output_type": "stream",
     "text": [
      "[I 2025-09-07 18:15:19,729] Trial 9 finished with value: 0.87375 and parameters: {'lr': 0.004582237841565402, 'weight_decay': 0.000955234813888564, 'optimizer': 'Adam', 'momentum': 0.044666349204480385, 'out_channels': 14, 'kernel_size': 6}. Best is trial 1 with value: 0.8924166666666666.\n"
     ]
    },
    {
     "name": "stdout",
     "output_type": "stream",
     "text": [
      "Best trial params: {'lr': 0.001863740774318888, 'weight_decay': 0.006123905783334468, 'optimizer': 'AdamW', 'momentum': 0.5724316896713948, 'out_channels': 14, 'kernel_size': 5}\n",
      "Best validation accuracy: 0.8924\n"
     ]
    }
   ],
   "source": [
    "\n",
    "tune_model(Simple_Model, train_dloader, val_dloader, model_name=\"Simple_CNN\", device=device, n_trials=10, hyperparam_space=hyperparam_space, epochs=5, project_name=\"Fashion-MNIST-CNN_v1\")"
   ]
  },
  {
   "cell_type": "code",
   "execution_count": null,
   "id": "47e35698",
   "metadata": {},
   "outputs": [],
   "source": []
  }
 ],
 "metadata": {
  "kernelspec": {
   "display_name": "uni_conda",
   "language": "python",
   "name": "python3"
  },
  "language_info": {
   "codemirror_mode": {
    "name": "ipython",
    "version": 3
   },
   "file_extension": ".py",
   "mimetype": "text/x-python",
   "name": "python",
   "nbconvert_exporter": "python",
   "pygments_lexer": "ipython3",
   "version": "3.11.0"
  }
 },
 "nbformat": 4,
 "nbformat_minor": 5
}
